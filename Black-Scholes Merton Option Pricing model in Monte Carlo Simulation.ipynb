{
 "cells": [
  {
   "cell_type": "code",
   "execution_count": 1,
   "id": "5f452d71",
   "metadata": {},
   "outputs": [],
   "source": [
    "import numpy as np\n",
    "import math\n",
    "import time"
   ]
  },
  {
   "cell_type": "code",
   "execution_count": 18,
   "id": "c787faaa",
   "metadata": {},
   "outputs": [],
   "source": [
    "class OptionPricing:\n",
    "    def __init__(self, S0, E, T, rf, sigma, iterations):\n",
    "        self.S0 = S0 # Initial price of the underlying stock\n",
    "        self.E = E # Strike price\n",
    "        self.T = T # Expiry\n",
    "        self.rf = rf # risk-free interest rate\n",
    "        self.sigma = sigma # volatility\n",
    "        self.iterations = iterations # number of simulations to get the stock price\n",
    "    \n",
    "    def call_option_simulation(self):\n",
    "        # Payoff function max(S-E,0)\n",
    "        option_data = np.zeros([self.iterations, 2])\n",
    "        \n",
    "        rand = np.random.normal(0, 1, [1, self.iterations])\n",
    "    \n",
    "        # Stock price S(T)\n",
    "        stock_price = self.S0*np.exp(self.T*(self.rf - 0.5*self.sigma**2) + self.sigma*np.sqrt(self.T)*rand)\n",
    "    \n",
    "        # S-E\n",
    "        option_data[:,1] = stock_price - self.E\n",
    "    \n",
    "        # average for Monte Carlo method\n",
    "        average = np.sum(np.amax(option_data, axis = 1))/float(self.iterations)\n",
    "    \n",
    "        # Use exp(-rT) discount factor\n",
    "        return np.exp(-1.0*self.rf*self.T)*average\n",
    "    \n",
    "    def put_option_simulation(self):\n",
    "        option_data = np.zeros([self.iterations, 2])\n",
    "    \n",
    "        rand = np.random.normal(0, 1, [1, self.iterations])\n",
    "    \n",
    "        # Stock price S(T)\n",
    "        stock_price = self.S0*np.exp(self.T*(self.rf - 0.5*self.sigma**2) + self.sigma*np.sqrt(self.T)*rand)\n",
    "    \n",
    "        # max(E-S, 0) calculation\n",
    "        option_data[:,1] = self.E - stock_price\n",
    "        average = np.sum(np.amax(option_data, axis = 1))/float(self.iterations)\n",
    "    \n",
    "        # Use exp(-rT) discount factor\n",
    "        return np.exp(-1.0*self.rf*self.T)*average"
   ]
  },
  {
   "cell_type": "code",
   "execution_count": 19,
   "id": "ec9fb4b1",
   "metadata": {},
   "outputs": [
    {
     "name": "stdout",
     "output_type": "stream",
     "text": [
      "Call option price:  10.44153270397699\n",
      "Put option price:  5.571874957670795\n"
     ]
    }
   ],
   "source": [
    "if __name__==\"__main__\":\n",
    "    S0 = 100\n",
    "    E = 100\n",
    "    T = 1\n",
    "    rf = 0.05\n",
    "    sigma = 0.2\n",
    "    iterations = 10000000\n",
    "    \n",
    "    model = OptionPricing(S0, E, T, rf, sigma, iterations)\n",
    "    print(\"Call option price: \", model.call_option_simulation())\n",
    "    print(\"Put option price: \", model.put_option_simulation())    "
   ]
  },
  {
   "cell_type": "code",
   "execution_count": null,
   "id": "e9da9456",
   "metadata": {},
   "outputs": [],
   "source": []
  }
 ],
 "metadata": {
  "kernelspec": {
   "display_name": "Python 3 (ipykernel)",
   "language": "python",
   "name": "python3"
  },
  "language_info": {
   "codemirror_mode": {
    "name": "ipython",
    "version": 3
   },
   "file_extension": ".py",
   "mimetype": "text/x-python",
   "name": "python",
   "nbconvert_exporter": "python",
   "pygments_lexer": "ipython3",
   "version": "3.9.12"
  }
 },
 "nbformat": 4,
 "nbformat_minor": 5
}
